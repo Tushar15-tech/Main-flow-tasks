{
 "cells": [
  {
   "cell_type": "code",
   "execution_count": 13,
   "id": "cc9376a2-680e-4a47-86bd-714b56e3b3b5",
   "metadata": {},
   "outputs": [
    {
     "name": "stdout",
     "output_type": "stream",
     "text": [
      "Updated list: ['apple', 'vivo', 'oppo', 'oppo']\n"
     ]
    }
   ],
   "source": [
    "#Task 1\n",
    "# write a python code to create a list ,a dictionary ,and a set ,Perfomr basic operations like adding,removing and mofifying elements.\n",
    "\n",
    "#list are used to store multiple items in a single variable.\n",
    "#list items are ordered, changeable, and allow duplicate values.\n",
    "my_list = [\"apple\",\"samsung\",\"oppo\",\"Xiaomi\"]\n",
    "\n",
    "#change list items \n",
    "my_list[1] = \"vivo\"\n",
    "\n",
    "#adding elements\n",
    "my_list.append(\"oppo\")\n",
    "\n",
    "#remove elements\n",
    "my_list.remove(\"Xiaomi\")\n",
    "\n",
    "print(\"Updated list:\", my_list)\n",
    "\n",
    "\n"
   ]
  },
  {
   "cell_type": "code",
   "execution_count": 2,
   "id": "ee0660f1-934a-40bb-be57-0bf70da51420",
   "metadata": {},
   "outputs": [
    {
     "name": "stdout",
     "output_type": "stream",
     "text": [
      "Updated Set: {False, True, 'motorola', 5, 'lava', 'oppo', 'apple'}\n"
     ]
    }
   ],
   "source": [
    "#set are used to store several ithems in a single variable.\n",
    "#sets is the collection that is written with curly brackets and is both unindexed and unrodered.\n",
    "my_set = {\"apple\",\"samsung\",\"oppo\", False, True,4,5}\n",
    "\n",
    "#modifying set elements\n",
    "my_set.discard(4)\n",
    "my_set.add(\"motorola\")\n",
    "\n",
    "#adding elements\n",
    "my_set.add(\"lava\")\n",
    "\n",
    "#removing elements\n",
    "my_set.remove(\"samsung\")\n",
    "\n",
    "print(\"Updated Set:\", my_set) \n"
   ]
  },
  {
   "cell_type": "code",
   "execution_count": 4,
   "id": "6d232ee9-a094-4355-b1ec-0fa275451db0",
   "metadata": {},
   "outputs": [
    {
     "name": "stdout",
     "output_type": "stream",
     "text": [
      "Updated Dictionary: {'brand': 'Honda', 'year': 2019, 'owner': 'Harshit', 'colour': 'black'}\n"
     ]
    }
   ],
   "source": [
    "#Dictionaries are used to store dats values in key:value pair.\n",
    "#Dictionaries are written with curly brackets.\n",
    "my_dict={\n",
    "    \"brand\":\"Honda\",\n",
    "    \"model\":\"Amaze\",\n",
    "    \"year\":1990,\n",
    "    \"owner\":\"Harshit\"\n",
    "}\n",
    "\n",
    "\n",
    "#modifying dictionary elements\n",
    "my_dict[\"year\"]=2019\n",
    "\n",
    "#adding elements\n",
    "my_dict[\"colour\"]=\"black\"\n",
    "\n",
    "#removing elements\n",
    "my_dict.pop(\"model\")\n",
    "\n",
    "print(\"Updated Dictionary:\", my_dict)\n",
    "\n",
    "\n",
    "\n"
   ]
  },
  {
   "cell_type": "code",
   "execution_count": null,
   "id": "8aa2130a-60c0-4582-897d-b3e573779c80",
   "metadata": {},
   "outputs": [],
   "source": []
  }
 ],
 "metadata": {
  "kernelspec": {
   "display_name": "Python 3 (ipykernel)",
   "language": "python",
   "name": "python3"
  },
  "language_info": {
   "codemirror_mode": {
    "name": "ipython",
    "version": 3
   },
   "file_extension": ".py",
   "mimetype": "text/x-python",
   "name": "python",
   "nbconvert_exporter": "python",
   "pygments_lexer": "ipython3",
   "version": "3.12.4"
  }
 },
 "nbformat": 4,
 "nbformat_minor": 5
}
